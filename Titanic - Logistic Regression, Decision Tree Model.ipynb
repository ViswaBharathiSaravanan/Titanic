{
 "cells": [
  {
   "cell_type": "markdown",
   "id": "5d9bd4b1",
   "metadata": {},
   "source": [
    "<H1>TITANIC</H1>"
   ]
  },
  {
   "cell_type": "code",
   "execution_count": 27,
   "id": "67cfdfac",
   "metadata": {},
   "outputs": [],
   "source": [
    "import pandas as pd\n",
    "from scipy import stats\n",
    "import matplotlib.pyplot as plt\n",
    "import seaborn as sns\n",
    "import statsmodels.api as sm\n",
    "from sklearn.model_selection import train_test_split\n",
    "from sklearn.linear_model import LogisticRegression\n",
    "from sklearn.metrics import confusion_matrix\n",
    "from sklearn.datasets import load_iris\n",
    "from sklearn.tree import DecisionTreeClassifier"
   ]
  },
  {
   "cell_type": "code",
   "execution_count": 4,
   "id": "9147de71",
   "metadata": {},
   "outputs": [
    {
     "data": {
      "text/html": [
       "<div>\n",
       "<style scoped>\n",
       "    .dataframe tbody tr th:only-of-type {\n",
       "        vertical-align: middle;\n",
       "    }\n",
       "\n",
       "    .dataframe tbody tr th {\n",
       "        vertical-align: top;\n",
       "    }\n",
       "\n",
       "    .dataframe thead th {\n",
       "        text-align: right;\n",
       "    }\n",
       "</style>\n",
       "<table border=\"1\" class=\"dataframe\">\n",
       "  <thead>\n",
       "    <tr style=\"text-align: right;\">\n",
       "      <th></th>\n",
       "      <th>PassengerId</th>\n",
       "      <th>Survived</th>\n",
       "      <th>Pclass</th>\n",
       "      <th>Name</th>\n",
       "      <th>Sex</th>\n",
       "      <th>Age</th>\n",
       "      <th>SibSp</th>\n",
       "      <th>Parch</th>\n",
       "      <th>Ticket</th>\n",
       "      <th>Fare</th>\n",
       "      <th>Cabin</th>\n",
       "      <th>Embarked</th>\n",
       "    </tr>\n",
       "  </thead>\n",
       "  <tbody>\n",
       "    <tr>\n",
       "      <th>0</th>\n",
       "      <td>1</td>\n",
       "      <td>0</td>\n",
       "      <td>3</td>\n",
       "      <td>Braund, Mr. Owen Harris</td>\n",
       "      <td>male</td>\n",
       "      <td>22.0</td>\n",
       "      <td>1</td>\n",
       "      <td>0</td>\n",
       "      <td>A/5 21171</td>\n",
       "      <td>7.2500</td>\n",
       "      <td>NaN</td>\n",
       "      <td>S</td>\n",
       "    </tr>\n",
       "    <tr>\n",
       "      <th>1</th>\n",
       "      <td>2</td>\n",
       "      <td>1</td>\n",
       "      <td>1</td>\n",
       "      <td>Cumings, Mrs. John Bradley (Florence Briggs Th...</td>\n",
       "      <td>female</td>\n",
       "      <td>38.0</td>\n",
       "      <td>1</td>\n",
       "      <td>0</td>\n",
       "      <td>PC 17599</td>\n",
       "      <td>71.2833</td>\n",
       "      <td>C85</td>\n",
       "      <td>C</td>\n",
       "    </tr>\n",
       "    <tr>\n",
       "      <th>2</th>\n",
       "      <td>3</td>\n",
       "      <td>1</td>\n",
       "      <td>3</td>\n",
       "      <td>Heikkinen, Miss. Laina</td>\n",
       "      <td>female</td>\n",
       "      <td>26.0</td>\n",
       "      <td>0</td>\n",
       "      <td>0</td>\n",
       "      <td>STON/O2. 3101282</td>\n",
       "      <td>7.9250</td>\n",
       "      <td>NaN</td>\n",
       "      <td>S</td>\n",
       "    </tr>\n",
       "    <tr>\n",
       "      <th>3</th>\n",
       "      <td>4</td>\n",
       "      <td>1</td>\n",
       "      <td>1</td>\n",
       "      <td>Futrelle, Mrs. Jacques Heath (Lily May Peel)</td>\n",
       "      <td>female</td>\n",
       "      <td>35.0</td>\n",
       "      <td>1</td>\n",
       "      <td>0</td>\n",
       "      <td>113803</td>\n",
       "      <td>53.1000</td>\n",
       "      <td>C123</td>\n",
       "      <td>S</td>\n",
       "    </tr>\n",
       "    <tr>\n",
       "      <th>4</th>\n",
       "      <td>5</td>\n",
       "      <td>0</td>\n",
       "      <td>3</td>\n",
       "      <td>Allen, Mr. William Henry</td>\n",
       "      <td>male</td>\n",
       "      <td>35.0</td>\n",
       "      <td>0</td>\n",
       "      <td>0</td>\n",
       "      <td>373450</td>\n",
       "      <td>8.0500</td>\n",
       "      <td>NaN</td>\n",
       "      <td>S</td>\n",
       "    </tr>\n",
       "  </tbody>\n",
       "</table>\n",
       "</div>"
      ],
      "text/plain": [
       "   PassengerId  Survived  Pclass  \\\n",
       "0            1         0       3   \n",
       "1            2         1       1   \n",
       "2            3         1       3   \n",
       "3            4         1       1   \n",
       "4            5         0       3   \n",
       "\n",
       "                                                Name     Sex   Age  SibSp  \\\n",
       "0                            Braund, Mr. Owen Harris    male  22.0      1   \n",
       "1  Cumings, Mrs. John Bradley (Florence Briggs Th...  female  38.0      1   \n",
       "2                             Heikkinen, Miss. Laina  female  26.0      0   \n",
       "3       Futrelle, Mrs. Jacques Heath (Lily May Peel)  female  35.0      1   \n",
       "4                           Allen, Mr. William Henry    male  35.0      0   \n",
       "\n",
       "   Parch            Ticket     Fare Cabin Embarked  \n",
       "0      0         A/5 21171   7.2500   NaN        S  \n",
       "1      0          PC 17599  71.2833   C85        C  \n",
       "2      0  STON/O2. 3101282   7.9250   NaN        S  \n",
       "3      0            113803  53.1000  C123        S  \n",
       "4      0            373450   8.0500   NaN        S  "
      ]
     },
     "execution_count": 4,
     "metadata": {},
     "output_type": "execute_result"
    }
   ],
   "source": [
    "a=pd.read_csv(\"https://raw.githubusercontent.com/datasciencedojo/datasets/master/titanic.csv\")\n",
    "a.head()"
   ]
  },
  {
   "cell_type": "code",
   "execution_count": 5,
   "id": "f5dfe460",
   "metadata": {},
   "outputs": [
    {
     "data": {
      "text/plain": [
       "Index(['PassengerId', 'Survived', 'Pclass', 'Name', 'Sex', 'Age', 'SibSp',\n",
       "       'Parch', 'Ticket', 'Fare', 'Cabin', 'Embarked'],\n",
       "      dtype='object')"
      ]
     },
     "execution_count": 5,
     "metadata": {},
     "output_type": "execute_result"
    }
   ],
   "source": [
    "a.columns"
   ]
  },
  {
   "cell_type": "code",
   "execution_count": 6,
   "id": "37f35f9b",
   "metadata": {},
   "outputs": [
    {
     "name": "stdout",
     "output_type": "stream",
     "text": [
      "<class 'pandas.core.frame.DataFrame'>\n",
      "RangeIndex: 891 entries, 0 to 890\n",
      "Data columns (total 12 columns):\n",
      " #   Column       Non-Null Count  Dtype  \n",
      "---  ------       --------------  -----  \n",
      " 0   PassengerId  891 non-null    int64  \n",
      " 1   Survived     891 non-null    int64  \n",
      " 2   Pclass       891 non-null    int64  \n",
      " 3   Name         891 non-null    object \n",
      " 4   Sex          891 non-null    object \n",
      " 5   Age          714 non-null    float64\n",
      " 6   SibSp        891 non-null    int64  \n",
      " 7   Parch        891 non-null    int64  \n",
      " 8   Ticket       891 non-null    object \n",
      " 9   Fare         891 non-null    float64\n",
      " 10  Cabin        204 non-null    object \n",
      " 11  Embarked     889 non-null    object \n",
      "dtypes: float64(2), int64(5), object(5)\n",
      "memory usage: 83.7+ KB\n"
     ]
    }
   ],
   "source": [
    "a.info()"
   ]
  },
  {
   "cell_type": "code",
   "execution_count": 7,
   "id": "0c37c9c9",
   "metadata": {},
   "outputs": [
    {
     "data": {
      "text/plain": [
       "<bound method NDFrame.describe of      PassengerId  Survived  Pclass  \\\n",
       "0              1         0       3   \n",
       "1              2         1       1   \n",
       "2              3         1       3   \n",
       "3              4         1       1   \n",
       "4              5         0       3   \n",
       "..           ...       ...     ...   \n",
       "886          887         0       2   \n",
       "887          888         1       1   \n",
       "888          889         0       3   \n",
       "889          890         1       1   \n",
       "890          891         0       3   \n",
       "\n",
       "                                                  Name     Sex   Age  SibSp  \\\n",
       "0                              Braund, Mr. Owen Harris    male  22.0      1   \n",
       "1    Cumings, Mrs. John Bradley (Florence Briggs Th...  female  38.0      1   \n",
       "2                               Heikkinen, Miss. Laina  female  26.0      0   \n",
       "3         Futrelle, Mrs. Jacques Heath (Lily May Peel)  female  35.0      1   \n",
       "4                             Allen, Mr. William Henry    male  35.0      0   \n",
       "..                                                 ...     ...   ...    ...   \n",
       "886                              Montvila, Rev. Juozas    male  27.0      0   \n",
       "887                       Graham, Miss. Margaret Edith  female  19.0      0   \n",
       "888           Johnston, Miss. Catherine Helen \"Carrie\"  female   NaN      1   \n",
       "889                              Behr, Mr. Karl Howell    male  26.0      0   \n",
       "890                                Dooley, Mr. Patrick    male  32.0      0   \n",
       "\n",
       "     Parch            Ticket     Fare Cabin Embarked  \n",
       "0        0         A/5 21171   7.2500   NaN        S  \n",
       "1        0          PC 17599  71.2833   C85        C  \n",
       "2        0  STON/O2. 3101282   7.9250   NaN        S  \n",
       "3        0            113803  53.1000  C123        S  \n",
       "4        0            373450   8.0500   NaN        S  \n",
       "..     ...               ...      ...   ...      ...  \n",
       "886      0            211536  13.0000   NaN        S  \n",
       "887      0            112053  30.0000   B42        S  \n",
       "888      2        W./C. 6607  23.4500   NaN        S  \n",
       "889      0            111369  30.0000  C148        C  \n",
       "890      0            370376   7.7500   NaN        Q  \n",
       "\n",
       "[891 rows x 12 columns]>"
      ]
     },
     "execution_count": 7,
     "metadata": {},
     "output_type": "execute_result"
    }
   ],
   "source": [
    "a.describe"
   ]
  },
  {
   "cell_type": "code",
   "execution_count": 8,
   "id": "cab9ee91",
   "metadata": {},
   "outputs": [
    {
     "data": {
      "text/plain": [
       "(891, 12)"
      ]
     },
     "execution_count": 8,
     "metadata": {},
     "output_type": "execute_result"
    }
   ],
   "source": [
    "a.shape"
   ]
  },
  {
   "cell_type": "code",
   "execution_count": 9,
   "id": "2afdc15c",
   "metadata": {},
   "outputs": [
    {
     "data": {
      "text/html": [
       "<div>\n",
       "<style scoped>\n",
       "    .dataframe tbody tr th:only-of-type {\n",
       "        vertical-align: middle;\n",
       "    }\n",
       "\n",
       "    .dataframe tbody tr th {\n",
       "        vertical-align: top;\n",
       "    }\n",
       "\n",
       "    .dataframe thead th {\n",
       "        text-align: right;\n",
       "    }\n",
       "</style>\n",
       "<table border=\"1\" class=\"dataframe\">\n",
       "  <thead>\n",
       "    <tr style=\"text-align: right;\">\n",
       "      <th></th>\n",
       "      <th>PassengerId</th>\n",
       "      <th>Survived</th>\n",
       "      <th>Pclass</th>\n",
       "      <th>Name</th>\n",
       "      <th>Sex</th>\n",
       "      <th>Age</th>\n",
       "      <th>SibSp</th>\n",
       "      <th>Parch</th>\n",
       "      <th>Ticket</th>\n",
       "      <th>Fare</th>\n",
       "      <th>Cabin</th>\n",
       "      <th>Embarked</th>\n",
       "    </tr>\n",
       "  </thead>\n",
       "  <tbody>\n",
       "    <tr>\n",
       "      <th>0</th>\n",
       "      <td>False</td>\n",
       "      <td>False</td>\n",
       "      <td>False</td>\n",
       "      <td>False</td>\n",
       "      <td>False</td>\n",
       "      <td>False</td>\n",
       "      <td>False</td>\n",
       "      <td>False</td>\n",
       "      <td>False</td>\n",
       "      <td>False</td>\n",
       "      <td>True</td>\n",
       "      <td>False</td>\n",
       "    </tr>\n",
       "    <tr>\n",
       "      <th>1</th>\n",
       "      <td>False</td>\n",
       "      <td>False</td>\n",
       "      <td>False</td>\n",
       "      <td>False</td>\n",
       "      <td>False</td>\n",
       "      <td>False</td>\n",
       "      <td>False</td>\n",
       "      <td>False</td>\n",
       "      <td>False</td>\n",
       "      <td>False</td>\n",
       "      <td>False</td>\n",
       "      <td>False</td>\n",
       "    </tr>\n",
       "    <tr>\n",
       "      <th>2</th>\n",
       "      <td>False</td>\n",
       "      <td>False</td>\n",
       "      <td>False</td>\n",
       "      <td>False</td>\n",
       "      <td>False</td>\n",
       "      <td>False</td>\n",
       "      <td>False</td>\n",
       "      <td>False</td>\n",
       "      <td>False</td>\n",
       "      <td>False</td>\n",
       "      <td>True</td>\n",
       "      <td>False</td>\n",
       "    </tr>\n",
       "    <tr>\n",
       "      <th>3</th>\n",
       "      <td>False</td>\n",
       "      <td>False</td>\n",
       "      <td>False</td>\n",
       "      <td>False</td>\n",
       "      <td>False</td>\n",
       "      <td>False</td>\n",
       "      <td>False</td>\n",
       "      <td>False</td>\n",
       "      <td>False</td>\n",
       "      <td>False</td>\n",
       "      <td>False</td>\n",
       "      <td>False</td>\n",
       "    </tr>\n",
       "    <tr>\n",
       "      <th>4</th>\n",
       "      <td>False</td>\n",
       "      <td>False</td>\n",
       "      <td>False</td>\n",
       "      <td>False</td>\n",
       "      <td>False</td>\n",
       "      <td>False</td>\n",
       "      <td>False</td>\n",
       "      <td>False</td>\n",
       "      <td>False</td>\n",
       "      <td>False</td>\n",
       "      <td>True</td>\n",
       "      <td>False</td>\n",
       "    </tr>\n",
       "    <tr>\n",
       "      <th>...</th>\n",
       "      <td>...</td>\n",
       "      <td>...</td>\n",
       "      <td>...</td>\n",
       "      <td>...</td>\n",
       "      <td>...</td>\n",
       "      <td>...</td>\n",
       "      <td>...</td>\n",
       "      <td>...</td>\n",
       "      <td>...</td>\n",
       "      <td>...</td>\n",
       "      <td>...</td>\n",
       "      <td>...</td>\n",
       "    </tr>\n",
       "    <tr>\n",
       "      <th>886</th>\n",
       "      <td>False</td>\n",
       "      <td>False</td>\n",
       "      <td>False</td>\n",
       "      <td>False</td>\n",
       "      <td>False</td>\n",
       "      <td>False</td>\n",
       "      <td>False</td>\n",
       "      <td>False</td>\n",
       "      <td>False</td>\n",
       "      <td>False</td>\n",
       "      <td>True</td>\n",
       "      <td>False</td>\n",
       "    </tr>\n",
       "    <tr>\n",
       "      <th>887</th>\n",
       "      <td>False</td>\n",
       "      <td>False</td>\n",
       "      <td>False</td>\n",
       "      <td>False</td>\n",
       "      <td>False</td>\n",
       "      <td>False</td>\n",
       "      <td>False</td>\n",
       "      <td>False</td>\n",
       "      <td>False</td>\n",
       "      <td>False</td>\n",
       "      <td>False</td>\n",
       "      <td>False</td>\n",
       "    </tr>\n",
       "    <tr>\n",
       "      <th>888</th>\n",
       "      <td>False</td>\n",
       "      <td>False</td>\n",
       "      <td>False</td>\n",
       "      <td>False</td>\n",
       "      <td>False</td>\n",
       "      <td>True</td>\n",
       "      <td>False</td>\n",
       "      <td>False</td>\n",
       "      <td>False</td>\n",
       "      <td>False</td>\n",
       "      <td>True</td>\n",
       "      <td>False</td>\n",
       "    </tr>\n",
       "    <tr>\n",
       "      <th>889</th>\n",
       "      <td>False</td>\n",
       "      <td>False</td>\n",
       "      <td>False</td>\n",
       "      <td>False</td>\n",
       "      <td>False</td>\n",
       "      <td>False</td>\n",
       "      <td>False</td>\n",
       "      <td>False</td>\n",
       "      <td>False</td>\n",
       "      <td>False</td>\n",
       "      <td>False</td>\n",
       "      <td>False</td>\n",
       "    </tr>\n",
       "    <tr>\n",
       "      <th>890</th>\n",
       "      <td>False</td>\n",
       "      <td>False</td>\n",
       "      <td>False</td>\n",
       "      <td>False</td>\n",
       "      <td>False</td>\n",
       "      <td>False</td>\n",
       "      <td>False</td>\n",
       "      <td>False</td>\n",
       "      <td>False</td>\n",
       "      <td>False</td>\n",
       "      <td>True</td>\n",
       "      <td>False</td>\n",
       "    </tr>\n",
       "  </tbody>\n",
       "</table>\n",
       "<p>891 rows × 12 columns</p>\n",
       "</div>"
      ],
      "text/plain": [
       "     PassengerId  Survived  Pclass   Name    Sex    Age  SibSp  Parch  Ticket  \\\n",
       "0          False     False   False  False  False  False  False  False   False   \n",
       "1          False     False   False  False  False  False  False  False   False   \n",
       "2          False     False   False  False  False  False  False  False   False   \n",
       "3          False     False   False  False  False  False  False  False   False   \n",
       "4          False     False   False  False  False  False  False  False   False   \n",
       "..           ...       ...     ...    ...    ...    ...    ...    ...     ...   \n",
       "886        False     False   False  False  False  False  False  False   False   \n",
       "887        False     False   False  False  False  False  False  False   False   \n",
       "888        False     False   False  False  False   True  False  False   False   \n",
       "889        False     False   False  False  False  False  False  False   False   \n",
       "890        False     False   False  False  False  False  False  False   False   \n",
       "\n",
       "      Fare  Cabin  Embarked  \n",
       "0    False   True     False  \n",
       "1    False  False     False  \n",
       "2    False   True     False  \n",
       "3    False  False     False  \n",
       "4    False   True     False  \n",
       "..     ...    ...       ...  \n",
       "886  False   True     False  \n",
       "887  False  False     False  \n",
       "888  False   True     False  \n",
       "889  False  False     False  \n",
       "890  False   True     False  \n",
       "\n",
       "[891 rows x 12 columns]"
      ]
     },
     "execution_count": 9,
     "metadata": {},
     "output_type": "execute_result"
    }
   ],
   "source": [
    "a.isnull()"
   ]
  },
  {
   "cell_type": "code",
   "execution_count": 10,
   "id": "0cc29766",
   "metadata": {},
   "outputs": [
    {
     "data": {
      "text/plain": [
       "PassengerId      0\n",
       "Survived         0\n",
       "Pclass           0\n",
       "Name             0\n",
       "Sex              0\n",
       "Age            177\n",
       "SibSp            0\n",
       "Parch            0\n",
       "Ticket           0\n",
       "Fare             0\n",
       "Cabin          687\n",
       "Embarked         2\n",
       "dtype: int64"
      ]
     },
     "execution_count": 10,
     "metadata": {},
     "output_type": "execute_result"
    }
   ],
   "source": [
    "a.isnull().sum()"
   ]
  },
  {
   "cell_type": "code",
   "execution_count": 11,
   "id": "606b25e8",
   "metadata": {},
   "outputs": [],
   "source": [
    "a.drop(['PassengerId','Cabin','Ticket','Embarked','Name'],inplace=True,axis=1)"
   ]
  },
  {
   "cell_type": "code",
   "execution_count": 12,
   "id": "8425e5da",
   "metadata": {},
   "outputs": [
    {
     "data": {
      "text/plain": [
       "0.19865319865319866"
      ]
     },
     "execution_count": 12,
     "metadata": {},
     "output_type": "execute_result"
    }
   ],
   "source": [
    "a.Age.isnull().mean()"
   ]
  },
  {
   "cell_type": "code",
   "execution_count": 13,
   "id": "438467c8",
   "metadata": {},
   "outputs": [
    {
     "data": {
      "text/plain": [
       "count    714.000000\n",
       "mean      29.699118\n",
       "std       14.526497\n",
       "min        0.420000\n",
       "25%       20.125000\n",
       "50%       28.000000\n",
       "75%       38.000000\n",
       "max       80.000000\n",
       "Name: Age, dtype: float64"
      ]
     },
     "execution_count": 13,
     "metadata": {},
     "output_type": "execute_result"
    }
   ],
   "source": [
    "a.Age.describe()"
   ]
  },
  {
   "cell_type": "code",
   "execution_count": 14,
   "id": "92e57a58",
   "metadata": {},
   "outputs": [],
   "source": [
    "a.Age.fillna(29.699118,inplace=True)"
   ]
  },
  {
   "cell_type": "code",
   "execution_count": 15,
   "id": "881310a3",
   "metadata": {},
   "outputs": [
    {
     "data": {
      "text/plain": [
       "0"
      ]
     },
     "execution_count": 15,
     "metadata": {},
     "output_type": "execute_result"
    }
   ],
   "source": [
    "a.Age.isnull().sum()"
   ]
  },
  {
   "cell_type": "code",
   "execution_count": 16,
   "id": "3046b848",
   "metadata": {},
   "outputs": [
    {
     "data": {
      "text/plain": [
       "{'whiskers': [<matplotlib.lines.Line2D at 0x2c281f733d0>,\n",
       "  <matplotlib.lines.Line2D at 0x2c281f736a0>],\n",
       " 'caps': [<matplotlib.lines.Line2D at 0x2c281f73a30>,\n",
       "  <matplotlib.lines.Line2D at 0x2c281f73dc0>],\n",
       " 'boxes': [<matplotlib.lines.Line2D at 0x2c2818bcf40>],\n",
       " 'medians': [<matplotlib.lines.Line2D at 0x2c281f83190>],\n",
       " 'fliers': [<matplotlib.lines.Line2D at 0x2c281f83520>],\n",
       " 'means': []}"
      ]
     },
     "execution_count": 16,
     "metadata": {},
     "output_type": "execute_result"
    },
    {
     "data": {
      "image/png": "[encoded data removed]",
      "text/plain": [
       "<Figure size 432x288 with 1 Axes>"
      ]
     },
     "metadata": {
      "needs_background": "light"
     },
     "output_type": "display_data"
    }
   ],
   "source": [
    "plt.boxplot(a.Age)"
   ]
  },
  {
   "cell_type": "code",
   "execution_count": 17,
   "id": "17e80728",
   "metadata": {},
   "outputs": [
    {
     "name": "stdout",
     "output_type": "stream",
     "text": [
      "0      0\n",
      "1      1\n",
      "2      1\n",
      "3      1\n",
      "4      0\n",
      "      ..\n",
      "886    0\n",
      "887    1\n",
      "888    0\n",
      "889    1\n",
      "890    0\n",
      "Name: Survived, Length: 891, dtype: int64\n"
     ]
    }
   ],
   "source": [
    "y=a.Survived\n",
    "print(y)"
   ]
  },
  {
   "cell_type": "code",
   "execution_count": 18,
   "id": "d1c2d9ea",
   "metadata": {},
   "outputs": [
    {
     "name": "stdout",
     "output_type": "stream",
     "text": [
      "           Age     Fare\n",
      "0    22.000000   7.2500\n",
      "1    38.000000  71.2833\n",
      "2    26.000000   7.9250\n",
      "3    35.000000  53.1000\n",
      "4    35.000000   8.0500\n",
      "..         ...      ...\n",
      "886  27.000000  13.0000\n",
      "887  19.000000  30.0000\n",
      "888  29.699118  23.4500\n",
      "889  26.000000  30.0000\n",
      "890  32.000000   7.7500\n",
      "\n",
      "[891 rows x 2 columns]\n"
     ]
    }
   ],
   "source": [
    "x=a[['Age','Fare']] #only these two are continuous;cont datas are alone used\n",
    "print(x)"
   ]
  },
  {
   "cell_type": "code",
   "execution_count": 19,
   "id": "e571190b",
   "metadata": {},
   "outputs": [
    {
     "name": "stdout",
     "output_type": "stream",
     "text": [
      "           Age      Fare\n",
      "408  21.000000    7.7750\n",
      "480   9.000000   46.9000\n",
      "510  29.000000    7.7500\n",
      "609  40.000000  153.4625\n",
      "547  29.699118   13.8625\n",
      "..         ...       ...\n",
      "855  18.000000    9.3500\n",
      "871  47.000000   52.5542\n",
      "835  39.000000   83.1583\n",
      "792  29.699118   69.5500\n",
      "520  30.000000   93.5000\n",
      "\n",
      "[712 rows x 2 columns]\n",
      "           Age     Fare\n",
      "205   2.000000  10.4625\n",
      "44   19.000000   7.8792\n",
      "821  27.000000   8.6625\n",
      "458  50.000000  10.5000\n",
      "795  39.000000  13.0000\n",
      "..         ...      ...\n",
      "247  24.000000  14.5000\n",
      "259  50.000000  26.0000\n",
      "353  25.000000  17.8000\n",
      "783  29.699118  23.4500\n",
      "852   9.000000  15.2458\n",
      "\n",
      "[179 rows x 2 columns]\n",
      "408    0\n",
      "480    0\n",
      "510    1\n",
      "609    1\n",
      "547    1\n",
      "      ..\n",
      "855    1\n",
      "871    1\n",
      "835    1\n",
      "792    0\n",
      "520    1\n",
      "Name: Survived, Length: 712, dtype: int64\n",
      "205    0\n",
      "44     1\n",
      "821    1\n",
      "458    1\n",
      "795    0\n",
      "      ..\n",
      "247    1\n",
      "259    1\n",
      "353    0\n",
      "783    0\n",
      "852    0\n",
      "Name: Survived, Length: 179, dtype: int64\n"
     ]
    }
   ],
   "source": [
    "train_x,test_x,train_y,test_y=train_test_split(x,y,train_size=0.8,test_size=0.2,random_state=100)\n",
    "print(train_x)\n",
    "print(test_x)\n",
    "print(train_y)\n",
    "print(test_y)"
   ]
  },
  {
   "cell_type": "code",
   "execution_count": 20,
   "id": "68f7d21f",
   "metadata": {},
   "outputs": [],
   "source": [
    "model=LogisticRegression(random_state=100).fit(train_x,train_y)"
   ]
  },
  {
   "cell_type": "code",
   "execution_count": 21,
   "id": "0a0ebf72",
   "metadata": {},
   "outputs": [
    {
     "name": "stdout",
     "output_type": "stream",
     "text": [
      "[0 0 0 0 0 1 0 0 1 0 1 0 0 0 0 0 1 0 0 0 0 1 0 0 0 0 0 0 0 0 1 0 0 0 1 0 0\n",
      " 1 0 0 0 1 0 0 1 0 0 1 0 0 0 0 0 0 0 0 0 0 0 0 0 0 0 0 0 0 0 0 0 0 1 0 0 0\n",
      " 0 1 0 0 0 0 0 0 1 0 0 0 0 0 0 0 0 0 0 0 0 0 0 1 0 0 0 0 0 0 0 0 0 0 0 0 0\n",
      " 0 0 0 0 0 0 0 0 0 0 0 0 0 0 0 0 0 1 0 1 0 1 0 0 1 0 0 0 0 0 0 0 0 0 0 0 1\n",
      " 0 0 0 0 0 0 0 0 0 0 1 0 0 0 0 0 0 0 0 0 0 0 0 0 0 0 0 0 0 0 0]\n"
     ]
    }
   ],
   "source": [
    "predicted_values=model.predict(test_x)\n",
    "print(predicted_values)"
   ]
  },
  {
   "cell_type": "code",
   "execution_count": 22,
   "id": "412fe3c1",
   "metadata": {},
   "outputs": [
    {
     "name": "stdout",
     "output_type": "stream",
     "text": [
      "[[0.60070649 0.39929351]\n",
      " [0.6720016  0.3279984 ]\n",
      " [0.69653665 0.30346335]\n",
      " [0.76206976 0.23793024]\n",
      " [0.72133057 0.27866943]\n",
      " [0.04707281 0.95292719]\n",
      " [0.62380457 0.37619543]\n",
      " [0.61680088 0.38319912]\n",
      " [0.2575909  0.7424091 ]\n",
      " [0.64717594 0.35282406]\n",
      " [0.07074538 0.92925462]\n",
      " [0.68449456 0.31550544]\n",
      " [0.67815598 0.32184402]\n",
      " [0.73551362 0.26448638]\n",
      " [0.5828506  0.4171494 ]\n",
      " [0.68458025 0.31541975]\n",
      " [0.40958211 0.59041789]\n",
      " [0.66660978 0.33339022]\n",
      " [0.5801447  0.4198553 ]\n",
      " [0.67919745 0.32080255]\n",
      " [0.70797192 0.29202808]\n",
      " [0.26061536 0.73938464]\n",
      " [0.67140375 0.32859625]\n",
      " [0.68449456 0.31550544]\n",
      " [0.69705666 0.30294334]\n",
      " [0.70746562 0.29253438]\n",
      " [0.62069991 0.37930009]\n",
      " [0.79037507 0.20962493]\n",
      " [0.72760321 0.27239679]\n",
      " [0.67594007 0.32405993]\n",
      " [0.4767436  0.5232564 ]\n",
      " [0.64271528 0.35728472]\n",
      " [0.63707322 0.36292678]\n",
      " [0.69195501 0.30804499]\n",
      " [0.47652707 0.52347293]\n",
      " [0.69591806 0.30408194]\n",
      " [0.55887258 0.44112742]\n",
      " [0.24776601 0.75223399]\n",
      " [0.7066991  0.2933009 ]\n",
      " [0.7083682  0.2916318 ]\n",
      " [0.67213918 0.32786082]\n",
      " [0.32099934 0.67900066]\n",
      " [0.68484163 0.31515837]\n",
      " [0.55777508 0.44222492]\n",
      " [0.4767436  0.5232564 ]\n",
      " [0.71016843 0.28983157]\n",
      " [0.67875044 0.32124956]\n",
      " [0.40157908 0.59842092]\n",
      " [0.67111003 0.32888997]\n",
      " [0.52993886 0.47006114]\n",
      " [0.66224354 0.33775646]\n",
      " [0.68348374 0.31651626]\n",
      " [0.53586007 0.46413993]\n",
      " [0.69577831 0.30422169]\n",
      " [0.66860749 0.33139251]\n",
      " [0.66768058 0.33231942]\n",
      " [0.72128966 0.27871034]\n",
      " [0.66077915 0.33922085]\n",
      " [0.63496869 0.36503131]\n",
      " [0.54164135 0.45835865]\n",
      " [0.71980384 0.28019616]\n",
      " [0.52140557 0.47859443]\n",
      " [0.68174576 0.31825424]\n",
      " [0.70849115 0.29150885]\n",
      " [0.69195501 0.30804499]\n",
      " [0.6797015  0.3202985 ]\n",
      " [0.67899544 0.32100456]\n",
      " [0.64136892 0.35863108]\n",
      " [0.65362786 0.34637214]\n",
      " [0.72931993 0.27068007]\n",
      " [0.31201417 0.68798583]\n",
      " [0.74570524 0.25429476]\n",
      " [0.7153154  0.2846846 ]\n",
      " [0.70845017 0.29154983]\n",
      " [0.70273836 0.29726164]\n",
      " [0.47015027 0.52984973]\n",
      " [0.73319347 0.26680653]\n",
      " [0.7101547  0.2898453 ]\n",
      " [0.6803385  0.3196615 ]\n",
      " [0.71016843 0.28983157]\n",
      " [0.70034852 0.29965148]\n",
      " [0.73073142 0.26926858]\n",
      " [0.27305737 0.72694263]\n",
      " [0.54623783 0.45376217]\n",
      " [0.56712052 0.43287948]\n",
      " [0.69461197 0.30538803]\n",
      " [0.70037329 0.29962671]\n",
      " [0.68639531 0.31360469]\n",
      " [0.67491487 0.32508513]\n",
      " [0.77183557 0.22816443]\n",
      " [0.52849875 0.47150125]\n",
      " [0.68416308 0.31583692]\n",
      " [0.70797192 0.29202808]\n",
      " [0.68227658 0.31772342]\n",
      " [0.53377528 0.46622472]\n",
      " [0.68089155 0.31910845]\n",
      " [0.65742735 0.34257265]\n",
      " [0.35373846 0.64626154]\n",
      " [0.70746562 0.29253438]\n",
      " [0.67273333 0.32726667]\n",
      " [0.70845017 0.29154983]\n",
      " [0.7249342  0.2750658 ]\n",
      " [0.67273333 0.32726667]\n",
      " [0.52839161 0.47160839]\n",
      " [0.7153154  0.2846846 ]\n",
      " [0.70840293 0.29159707]\n",
      " [0.72444586 0.27555414]\n",
      " [0.70845017 0.29154983]\n",
      " [0.66986679 0.33013321]\n",
      " [0.5919909  0.4080091 ]\n",
      " [0.72806469 0.27193531]\n",
      " [0.74995229 0.25004771]\n",
      " [0.61689998 0.38310002]\n",
      " [0.52849875 0.47150125]\n",
      " [0.65835876 0.34164124]\n",
      " [0.68582435 0.31417565]\n",
      " [0.54759357 0.45240643]\n",
      " [0.7164954  0.2835046 ]\n",
      " [0.70845017 0.29154983]\n",
      " [0.56358163 0.43641837]\n",
      " [0.69910288 0.30089712]\n",
      " [0.70844572 0.29155428]\n",
      " [0.57832099 0.42167901]\n",
      " [0.71869955 0.28130045]\n",
      " [0.82210753 0.17789247]\n",
      " [0.5547858  0.4452142 ]\n",
      " [0.73187687 0.26812313]\n",
      " [0.67936869 0.32063131]\n",
      " [0.46872615 0.53127385]\n",
      " [0.69943668 0.30056332]\n",
      " [0.47493194 0.52506806]\n",
      " [0.71613561 0.28386439]\n",
      " [0.4273069  0.5726931 ]\n",
      " [0.56195462 0.43804538]\n",
      " [0.69895357 0.30104643]\n",
      " [0.39052756 0.60947244]\n",
      " [0.69295385 0.30704615]\n",
      " [0.63621336 0.36378664]\n",
      " [0.67118819 0.32881181]\n",
      " [0.67330509 0.32669491]\n",
      " [0.66201854 0.33798146]\n",
      " [0.67555816 0.32444184]\n",
      " [0.70433948 0.29566052]\n",
      " [0.70522314 0.29477686]\n",
      " [0.70845017 0.29154983]\n",
      " [0.65799875 0.34200125]\n",
      " [0.70802639 0.29197361]\n",
      " [0.47236314 0.52763686]\n",
      " [0.65354768 0.34645232]\n",
      " [0.57660623 0.42339377]\n",
      " [0.64499961 0.35500039]\n",
      " [0.64753108 0.35246892]\n",
      " [0.65553254 0.34446746]\n",
      " [0.66762321 0.33237679]\n",
      " [0.64901465 0.35098535]\n",
      " [0.70802639 0.29197361]\n",
      " [0.67621593 0.32378407]\n",
      " [0.70240667 0.29759333]\n",
      " [0.48219786 0.51780214]\n",
      " [0.7273672  0.2726328 ]\n",
      " [0.58441181 0.41558819]\n",
      " [0.69900538 0.30099462]\n",
      " [0.66796363 0.33203637]\n",
      " [0.70797192 0.29202808]\n",
      " [0.54231151 0.45768849]\n",
      " [0.7101547  0.2898453 ]\n",
      " [0.70802639 0.29197361]\n",
      " [0.65863433 0.34136567]\n",
      " [0.69195501 0.30804499]\n",
      " [0.61336567 0.38663433]\n",
      " [0.65384161 0.34615839]\n",
      " [0.66977373 0.33022627]\n",
      " [0.55721164 0.44278836]\n",
      " [0.54035711 0.45964289]\n",
      " [0.6661748  0.3338252 ]\n",
      " [0.71463983 0.28536017]\n",
      " [0.65798066 0.34201934]\n",
      " [0.65445051 0.34554949]\n",
      " [0.60891874 0.39108126]]\n"
     ]
    }
   ],
   "source": [
    "probability=model.predict_proba(test_x)\n",
    "print(probability)"
   ]
  },
  {
   "cell_type": "code",
   "execution_count": 23,
   "id": "31c8a8b3",
   "metadata": {},
   "outputs": [
    {
     "data": {
      "text/plain": [
       "array([[97,  7],\n",
       "       [61, 14]], dtype=int64)"
      ]
     },
     "execution_count": 23,
     "metadata": {},
     "output_type": "execute_result"
    }
   ],
   "source": [
    "confusion_matrix(test_y,predicted_values)"
   ]
  },
  {
   "cell_type": "code",
   "execution_count": 35,
   "id": "1cb8f350",
   "metadata": {},
   "outputs": [
    {
     "data": {
      "text/plain": [
       "0.6201117318435754"
      ]
     },
     "execution_count": 35,
     "metadata": {},
     "output_type": "execute_result"
    }
   ],
   "source": [
    "model.score(test_x,test_y)"
   ]
  },
  {
   "cell_type": "code",
   "execution_count": 24,
   "id": "7b8d1942",
   "metadata": {},
   "outputs": [
    {
     "data": {
      "text/plain": [
       "Index(['Age', 'Fare'], dtype='object')"
      ]
     },
     "execution_count": 24,
     "metadata": {},
     "output_type": "execute_result"
    }
   ],
   "source": [
    "x.columns"
   ]
  },
  {
   "cell_type": "markdown",
   "id": "5942933c",
   "metadata": {},
   "source": [
    "<H1>Decision Tree Classifier Model</H1>"
   ]
  },
  {
   "cell_type": "code",
   "execution_count": 31,
   "id": "a7a52cd7",
   "metadata": {},
   "outputs": [],
   "source": [
    "decision_tree = DecisionTreeClassifier().fit(train_x,train_y)"
   ]
  },
  {
   "cell_type": "code",
   "execution_count": 32,
   "id": "08812157",
   "metadata": {},
   "outputs": [
    {
     "name": "stdout",
     "output_type": "stream",
     "text": [
      "[1 0 0 1 0 1 0 0 1 0 1 0 0 0 1 1 1 1 1 0 0 1 1 0 0 0 1 0 0 0 0 1 0 1 0 1 1\n",
      " 1 0 0 0 1 0 0 0 0 0 0 0 1 0 1 0 0 1 0 0 1 1 1 0 0 0 1 1 0 0 1 0 0 1 0 0 0\n",
      " 0 0 0 0 1 0 0 1 1 0 0 0 0 1 0 0 1 0 0 0 1 0 0 1 0 0 0 0 0 0 0 1 0 0 0 1 0\n",
      " 0 1 1 1 1 0 0 0 1 0 0 0 0 0 1 0 1 0 0 1 0 0 1 1 0 1 0 0 0 1 0 1 1 0 0 0 1\n",
      " 0 1 0 1 0 0 1 0 0 0 0 0 1 1 0 0 0 0 0 1 1 0 0 0 0 1 0 1 0 0 1]\n"
     ]
    }
   ],
   "source": [
    "predicted_values=decision_tree.predict(test_x)\n",
    "print(predicted_values)"
   ]
  },
  {
   "cell_type": "code",
   "execution_count": 34,
   "id": "7f768d07",
   "metadata": {},
   "outputs": [
    {
     "data": {
      "text/plain": [
       "0.6312849162011173"
      ]
     },
     "execution_count": 34,
     "metadata": {},
     "output_type": "execute_result"
    }
   ],
   "source": [
    "decision_tree.score(test_x,test_y)"
   ]
  },
  {
   "cell_type": "code",
   "execution_count": null,
   "id": "18585cc9",
   "metadata": {},
   "outputs": [],
   "source": []
  }
 ],
 "metadata": {
  "kernelspec": {
   "display_name": "Python 3 (ipykernel)",
   "language": "python",
   "name": "python3"
  },
  "language_info": {
   "codemirror_mode": {
    "name": "ipython",
    "version": 3
   },
   "file_extension": ".py",
   "mimetype": "text/x-python",
   "name": "python",
   "nbconvert_exporter": "python",
   "pygments_lexer": "ipython3",
   "version": "3.9.7"
  }
 },
 "nbformat": 4,
 "nbformat_minor": 5
}
